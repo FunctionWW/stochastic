{
 "cells": [
  {
   "cell_type": "code",
   "execution_count": 6,
   "metadata": {},
   "outputs": [
    {
     "ename": "ImportError",
     "evalue": "Matplotlib requires dateutil>=2.7; you have 2.6.0",
     "output_type": "error",
     "traceback": [
      "\u001b[1;31m---------------------------------------------------------------------------\u001b[0m",
      "\u001b[1;31mImportError\u001b[0m                               Traceback (most recent call last)",
      "\u001b[1;32mUntitled-1.ipynb Cell 1\u001b[0m line \u001b[0;36m5\n\u001b[0;32m      <a href='vscode-notebook-cell:Untitled-1.ipynb?jupyter-notebook#W0sdW50aXRsZWQ%3D?line=1'>2</a>\u001b[0m \u001b[39mfrom\u001b[39;00m \u001b[39mautograd\u001b[39;00m \u001b[39mimport\u001b[39;00m grad\n\u001b[0;32m      <a href='vscode-notebook-cell:Untitled-1.ipynb?jupyter-notebook#W0sdW50aXRsZWQ%3D?line=2'>3</a>\u001b[0m \u001b[39mimport\u001b[39;00m \u001b[39mautograd\u001b[39;00m\u001b[39m.\u001b[39;00m\u001b[39mnumpy\u001b[39;00m \u001b[39mas\u001b[39;00m \u001b[39mnp\u001b[39;00m\n\u001b[1;32m----> <a href='vscode-notebook-cell:Untitled-1.ipynb?jupyter-notebook#W0sdW50aXRsZWQ%3D?line=4'>5</a>\u001b[0m \u001b[39mimport\u001b[39;00m \u001b[39mmatplotlib\u001b[39;00m\u001b[39m.\u001b[39;00m\u001b[39mpyplot\u001b[39;00m \u001b[39mas\u001b[39;00m \u001b[39mplt\u001b[39;00m\n\u001b[0;32m      <a href='vscode-notebook-cell:Untitled-1.ipynb?jupyter-notebook#W0sdW50aXRsZWQ%3D?line=5'>6</a>\u001b[0m \u001b[39mimport\u001b[39;00m \u001b[39mseaborn\u001b[39;00m \u001b[39mas\u001b[39;00m \u001b[39msns\u001b[39;00m\n\u001b[0;32m     <a href='vscode-notebook-cell:Untitled-1.ipynb?jupyter-notebook#W0sdW50aXRsZWQ%3D?line=9'>10</a>\u001b[0m \u001b[39mdef\u001b[39;00m \u001b[39m_robust_loss\u001b[39m(psi, beta, nu, Y, Z):\n",
      "File \u001b[1;32mc:\\Users\\dell\\Desktop\\Python\\lib\\site-packages\\matplotlib\\__init__.py:286\u001b[0m\n\u001b[0;32m    281\u001b[0m         \u001b[39mif\u001b[39;00m parse_version(module\u001b[39m.\u001b[39m__version__) \u001b[39m<\u001b[39m parse_version(minver):\n\u001b[0;32m    282\u001b[0m             \u001b[39mraise\u001b[39;00m \u001b[39mImportError\u001b[39;00m(\u001b[39mf\u001b[39m\u001b[39m\"\u001b[39m\u001b[39mMatplotlib requires \u001b[39m\u001b[39m{\u001b[39;00mmodname\u001b[39m}\u001b[39;00m\u001b[39m>=\u001b[39m\u001b[39m{\u001b[39;00mminver\u001b[39m}\u001b[39;00m\u001b[39m; \u001b[39m\u001b[39m\"\u001b[39m\n\u001b[0;32m    283\u001b[0m                               \u001b[39mf\u001b[39m\u001b[39m\"\u001b[39m\u001b[39myou have \u001b[39m\u001b[39m{\u001b[39;00mmodule\u001b[39m.\u001b[39m__version__\u001b[39m}\u001b[39;00m\u001b[39m\"\u001b[39m)\n\u001b[1;32m--> 286\u001b[0m _check_versions()\n\u001b[0;32m    289\u001b[0m \u001b[39m# The decorator ensures this always returns the same handler (and it is only\u001b[39;00m\n\u001b[0;32m    290\u001b[0m \u001b[39m# attached once).\u001b[39;00m\n\u001b[0;32m    291\u001b[0m \u001b[39m@functools\u001b[39m\u001b[39m.\u001b[39mcache\n\u001b[0;32m    292\u001b[0m \u001b[39mdef\u001b[39;00m \u001b[39m_ensure_handler\u001b[39m():\n",
      "File \u001b[1;32mc:\\Users\\dell\\Desktop\\Python\\lib\\site-packages\\matplotlib\\__init__.py:282\u001b[0m, in \u001b[0;36m_check_versions\u001b[1;34m()\u001b[0m\n\u001b[0;32m    280\u001b[0m module \u001b[39m=\u001b[39m importlib\u001b[39m.\u001b[39mimport_module(modname)\n\u001b[0;32m    281\u001b[0m \u001b[39mif\u001b[39;00m parse_version(module\u001b[39m.\u001b[39m__version__) \u001b[39m<\u001b[39m parse_version(minver):\n\u001b[1;32m--> 282\u001b[0m     \u001b[39mraise\u001b[39;00m \u001b[39mImportError\u001b[39;00m(\u001b[39mf\u001b[39m\u001b[39m\"\u001b[39m\u001b[39mMatplotlib requires \u001b[39m\u001b[39m{\u001b[39;00mmodname\u001b[39m}\u001b[39;00m\u001b[39m>=\u001b[39m\u001b[39m{\u001b[39;00mminver\u001b[39m}\u001b[39;00m\u001b[39m; \u001b[39m\u001b[39m\"\u001b[39m\n\u001b[0;32m    283\u001b[0m                       \u001b[39mf\u001b[39m\u001b[39m\"\u001b[39m\u001b[39myou have \u001b[39m\u001b[39m{\u001b[39;00mmodule\u001b[39m.\u001b[39m__version__\u001b[39m}\u001b[39;00m\u001b[39m\"\u001b[39m)\n",
      "\u001b[1;31mImportError\u001b[0m: Matplotlib requires dateutil>=2.7; you have 2.6.0"
     ]
    }
   ],
   "source": [
    "import autograd\n",
    "from autograd import grad\n",
    "import autograd.numpy as np\n",
    "\n",
    "import matplotlib.pyplot as plt\n",
    "import seaborn as sns\n",
    "\n",
    "\n",
    "\n",
    "def _robust_loss(psi, beta, nu, Y, Z):\n",
    "    scaled_sq_errors = np.exp(-2*psi)  * (np.dot(Z, beta) - Y)**2\n",
    "    if nu == np.inf:\n",
    "        return scaled_sq_errors/2 + psi\n",
    "    return (nu + 1)/2 * np.log(1 + scaled_sq_errors / nu) + psi\n",
    "\n",
    "\n",
    "def make_sgd_robust_loss(Y, Z, nu):\n",
    "    N = Y.size\n",
    "    sgd_loss = lambda param, inds: np.mean(_robust_loss(param[0], param[1:], nu, Y[inds], Z[inds])) + np.sum(param**2)/(2*N)\n",
    "    grad_sgd_loss = grad(sgd_loss)\n",
    "    return sgd_loss, grad_sgd_loss\n",
    "\n",
    "\n",
    "def generate_data(N, D, seed):\n",
    "    rng = np.random.default_rng(seed)\n",
    "    # generate multivariate t covariates with 10 degrees\n",
    "    # of freedom and non-diagonal covariance \n",
    "    t_dof = 10\n",
    "    locs = np.arange(D).reshape((D,1))\n",
    "    cov = (t_dof - 2) / t_dof * np.exp(-(locs - locs.T)**2/4)\n",
    "    Z = rng.multivariate_normal(np.zeros(D), cov, size=N)\n",
    "    Z *= np.sqrt(t_dof / rng.chisquare(t_dof, size=(N, 1)))\n",
    "    # generate responses using regression coefficients beta = (1, 2, ..., D)\n",
    "    # and t-distributed noise \n",
    "    true_beta = np.arange(1, D+1)\n",
    "    Y = Z.dot(true_beta) + rng.standard_t(t_dof, size=N)\n",
    "    # for simplicity, center responses \n",
    "    Y = Y - np.mean(Y)\n",
    "    return true_beta, Y, Z\n",
    "\n",
    "\n",
    "def run_SGD(grad_loss, epochs, init_param, init_stepsize, stepsize_decayrate, batchsize, N):\n",
    "    K = (epochs * N) // batchsize\n",
    "    D = init_param.size\n",
    "    paramiters = np.zeros((K+1,D))\n",
    "    paramiters[0] = init_param\n",
    "    for k in range(K):\n",
    "        inds = np.random.choice(N, batchsize)\n",
    "        stepsize = init_stepsize / (k+1)**stepsize_decayrate\n",
    "        paramiters[k+1] = paramiters[k] - stepsize*grad_loss(paramiters[k], inds)\n",
    "    return paramiters\n",
    "\n",
    "\n",
    "def plot_iterates_and_squared_errors(paramiters, true_beta, opt_param, skip_epochs, epochs, N, batchsize, include_psi=True):\n",
    "    D = true_beta.size\n",
    "    param_names = [r'$\\beta_{{{}}}$'.format(i) for i in range(D)]\n",
    "    if include_psi:\n",
    "        param_names = [r'$\\psi$'] + param_names\n",
    "    else:\n",
    "        paramiters = paramiters[:,1:]\n",
    "        opt_param = opt_param[1:]\n",
    "    skip_epochs = 0\n",
    "    skip_iters = int(skip_epochs*N//batchsize)\n",
    "    xs = np.linspace(skip_epochs, epochs, paramiters.shape[0] - skip_iters)\n",
    "    plt.plot(xs, paramiters[skip_iters:]);\n",
    "    plt.plot(np.array(D*[[xs[0], xs[-1]]]).T, np.array([true_beta,true_beta]), ':')\n",
    "    plt.xlabel('epoch')\n",
    "    plt.ylabel('parameter value')\n",
    "    plt.legend(param_names, bbox_to_anchor=(0,1.02,1,0.2), loc='lower left',\n",
    "               mode='expand', borderaxespad=0, ncol=4, frameon=False)\n",
    "    sns.despine()\n",
    "    plt.show()\n",
    "    plt.plot(xs, np.linalg.norm(paramiters - opt_param[np.newaxis,:], axis=1)**2)\n",
    "    plt.xlabel('epoch')\n",
    "    plt.ylabel(r'$\\|x_k - x_{\\star}\\|_2^2$')\n",
    "    plt.yscale('log')\n",
    "    sns.despine()\n",
    "    plt.show()"
   ]
  },
  {
   "cell_type": "code",
   "execution_count": 5,
   "metadata": {},
   "outputs": [
    {
     "ename": "NameError",
     "evalue": "name '_robust_loss' is not defined",
     "output_type": "error",
     "traceback": [
      "\u001b[1;31m---------------------------------------------------------------------------\u001b[0m",
      "\u001b[1;31mNameError\u001b[0m                                 Traceback (most recent call last)",
      "\u001b[1;32mUntitled-1.ipynb Cell 2\u001b[0m line \u001b[0;36m1\n\u001b[0;32m     <a href='vscode-notebook-cell:Untitled-1.ipynb?jupyter-notebook#W1sdW50aXRsZWQ%3D?line=12'>13</a>\u001b[0m batchsize \u001b[39m=\u001b[39m \u001b[39m10\u001b[39m\n\u001b[0;32m     <a href='vscode-notebook-cell:Untitled-1.ipynb?jupyter-notebook#W1sdW50aXRsZWQ%3D?line=13'>14</a>\u001b[0m opt_param \u001b[39m=\u001b[39m \u001b[39m20\u001b[39m\n\u001b[1;32m---> <a href='vscode-notebook-cell:Untitled-1.ipynb?jupyter-notebook#W1sdW50aXRsZWQ%3D?line=14'>15</a>\u001b[0m _robust_loss(psi, beta, nu, Y, Z)\n\u001b[0;32m     <a href='vscode-notebook-cell:Untitled-1.ipynb?jupyter-notebook#W1sdW50aXRsZWQ%3D?line=15'>16</a>\u001b[0m make_sgd_robust_loss(Y, Z, nu)\n\u001b[0;32m     <a href='vscode-notebook-cell:Untitled-1.ipynb?jupyter-notebook#W1sdW50aXRsZWQ%3D?line=16'>17</a>\u001b[0m generate_data(N, D, seed)\n",
      "\u001b[1;31mNameError\u001b[0m: name '_robust_loss' is not defined"
     ]
    }
   ],
   "source": [
    "psi = 5\n",
    "beta = 1\n",
    "nu = 5\n",
    "Y = 50\n",
    "Z = 20\n",
    "N = 10000\n",
    "D = 10\n",
    "seed = 4242\n",
    "epochs = 100\n",
    "init_param = 0.2\n",
    "init_stepsize = 5\n",
    "stepsize_decayrate = 0.51\n",
    "batchsize = 10\n",
    "opt_param = 20\n",
    "_robust_loss(psi, beta, nu, Y, Z)\n",
    "make_sgd_robust_loss(Y, Z, nu)\n",
    "generate_data(N, D, seed)\n",
    "run_SGD(grad_loss, epochs, init_param, init_stepsize, stepsize_decayrate, batchsize, N)\n",
    "plot_iterates_and_squared_errors(paramiters, true_beta, opt_param, skip_epochs, epochs, N, batchsize, include_psi=True)\n"
   ]
  }
 ],
 "metadata": {
  "kernelspec": {
   "display_name": "Python 3",
   "language": "python",
   "name": "python3"
  },
  "language_info": {
   "codemirror_mode": {
    "name": "ipython",
    "version": 3
   },
   "file_extension": ".py",
   "mimetype": "text/x-python",
   "name": "python",
   "nbconvert_exporter": "python",
   "pygments_lexer": "ipython3",
   "version": "3.9.7"
  }
 },
 "nbformat": 4,
 "nbformat_minor": 2
}
